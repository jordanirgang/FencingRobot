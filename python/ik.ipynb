{
 "cells": [
  {
   "cell_type": "code",
   "execution_count": 15,
   "metadata": {},
   "outputs": [],
   "source": [
    "import numpy as np\n",
    "import sympy as sp\n",
    "import math"
   ]
  },
  {
   "cell_type": "code",
   "execution_count": 16,
   "metadata": {},
   "outputs": [
    {
     "data": {
      "text/latex": [
       "$\\displaystyle \\left[\\begin{matrix}\\phi_{0}\\\\\\theta_{1}\\\\\\theta_{2}\\\\l_{0-1}\\\\l_{1-2}\\\\l_{2-e}\\end{matrix}\\right]$"
      ],
      "text/plain": [
       "Matrix([\n",
       "[  phi_0],\n",
       "[theta_1],\n",
       "[theta_2],\n",
       "[  l_0-1],\n",
       "[  l_1-2],\n",
       "[  l_2-e]])"
      ]
     },
     "execution_count": 16,
     "metadata": {},
     "output_type": "execute_result"
    }
   ],
   "source": [
    "theta_1 = sp.Symbol('theta_1')\n",
    "theta_2 = sp.Symbol('theta_2')\n",
    "phi= sp.Symbol('phi_0')\n",
    "\n",
    "length_a = sp.Symbol('l_0-1')\n",
    "length_b = sp.Symbol('l_1-2')\n",
    "length_c = sp.Symbol('l_2-e')\n",
    "theta_1\n",
    "sp.Matrix([phi,theta_1,theta_2,length_a,length_b,length_c])"
   ]
  },
  {
   "cell_type": "markdown",
   "metadata": {},
   "source": [
    "FK"
   ]
  },
  {
   "cell_type": "code",
   "execution_count": 17,
   "metadata": {},
   "outputs": [
    {
     "data": {
      "text/latex": [
       "$\\displaystyle \\left[\\begin{matrix}l_{1-2} \\cos{\\left(\\theta_{1} \\right)} + l_{2-e} \\cos{\\left(\\theta_{1} + \\theta_{2} \\right)}\\\\l_{1-2} \\sin{\\left(\\theta_{1} \\right)} + l_{2-e} \\sin{\\left(\\theta_{1} + \\theta_{2} \\right)}\\end{matrix}\\right]$"
      ],
      "text/plain": [
       "Matrix([\n",
       "[l_1-2*cos(theta_1) + l_2-e*cos(theta_1 + theta_2)],\n",
       "[l_1-2*sin(theta_1) + l_2-e*sin(theta_1 + theta_2)]])"
      ]
     },
     "execution_count": 17,
     "metadata": {},
     "output_type": "execute_result"
    }
   ],
   "source": [
    "plane_fk = length_b*sp.Matrix([sp.cos(theta_1),sp.sin(theta_1),0])+ length_c * sp.Matrix([sp.cos(theta_1+theta_2),sp.sin(theta_1+theta_2),0])\n",
    "x = plane_fk[0]\n",
    "y = plane_fk[1]\n",
    "\n",
    "r = (x**2 + y**2)\n",
    "sp.Matrix([x,y])"
   ]
  },
  {
   "cell_type": "markdown",
   "metadata": {},
   "source": []
  },
  {
   "cell_type": "code",
   "execution_count": 18,
   "metadata": {},
   "outputs": [
    {
     "data": {
      "text/latex": [
       "$\\displaystyle \\left[\\begin{matrix}1 & 0 & 0 & 0\\\\0 & 1 & 0 & 0\\\\0 & 0 & 1 & 0\\\\0 & 0 & 0 & 1\\end{matrix}\\right]$"
      ],
      "text/plain": [
       "Matrix([\n",
       "[1, 0, 0, 0],\n",
       "[0, 1, 0, 0],\n",
       "[0, 0, 1, 0],\n",
       "[0, 0, 0, 1]])"
      ]
     },
     "execution_count": 18,
     "metadata": {},
     "output_type": "execute_result"
    }
   ],
   "source": [
    "def Rot_x(angle):\n",
    "    return sp.Matrix([[1,0,0,0],\n",
    "                    [0,sp.cos(angle),-sp.sin(angle),0],\n",
    "                    [0,sp.sin(angle),sp.cos(angle),0],\n",
    "                    [0,0,0,1]])\n",
    "def Rot_y(angle):\n",
    "    return sp.Matrix([[sp.cos(angle),0,sp.sin(angle),0],\n",
    "                    [0,1,0,0],\n",
    "                    [-sp.sin(angle),0,sp.cos(angle),0],\n",
    "                    [0,0,0,1]])\n",
    "def Rot_z(angle):\n",
    "    return sp.Matrix([[sp.cos(angle),-sp.sin(angle),0,0],\n",
    "                    [sp.sin(angle),sp.cos(angle),0,0],\n",
    "                    [0,0,1,0],\n",
    "                    [0,0,0,1]])\n",
    "\n",
    "def trans_x(l):\n",
    "    return sp.Matrix([[1,0,0,l],\n",
    "                    [0,1,0,0],\n",
    "                    [0,0,1,0],\n",
    "                    [0,0,0,1]])\n",
    "def trans_y(l):\n",
    "    return sp.Matrix([[1,0,0,0],\n",
    "                    [0,1,0,l],\n",
    "                    [0,0,1,0],\n",
    "                    [0,0,0,1]])\n",
    "def trans_z(l):\n",
    "    return sp.Matrix([[1,0,0,0],\n",
    "                    [0,1,0,0],\n",
    "                    [0,0,1,l],\n",
    "                    [0,0,0,1]])\n",
    "\n",
    "\n",
    "homogenous = sp.Matrix([[1,0,0,0],\n",
    "                    [0,1,0,0],\n",
    "                    [0,0,1,0],\n",
    "                    [0,0,0,1]])\n",
    "homogenous"
   ]
  },
  {
   "cell_type": "code",
   "execution_count": 19,
   "metadata": {},
   "outputs": [
    {
     "data": {
      "text/latex": [
       "$\\displaystyle \\left[\\begin{matrix}l_{2-e} \\cos{\\left(\\theta_{1} + \\theta_{2} \\right)}\\\\l_{2-e} \\sin{\\left(\\theta_{1} + \\theta_{2} \\right)}\\\\0\\\\0\\end{matrix}\\right]$"
      ],
      "text/plain": [
       "Matrix([\n",
       "[l_2-e*cos(theta_1 + theta_2)],\n",
       "[l_2-e*sin(theta_1 + theta_2)],\n",
       "[                           0],\n",
       "[                           0]])"
      ]
     },
     "execution_count": 19,
     "metadata": {},
     "output_type": "execute_result"
    }
   ],
   "source": [
    "\n",
    "sp.simplify(Rot_z(theta_1)*Rot_z(theta_2)*trans_x(length_b)*sp.Matrix([length_c,0,0,0]))\n"
   ]
  },
  {
   "cell_type": "code",
   "execution_count": 20,
   "metadata": {},
   "outputs": [
    {
     "data": {
      "text/latex": [
       "$\\displaystyle \\left[\\begin{matrix}\\cos{\\left(\\theta_{1} + \\theta_{2} \\right)} & - \\sin{\\left(\\theta_{1} + \\theta_{2} \\right)} & 0 & l_{1-2} \\cos{\\left(\\theta_{1} \\right)} + l_{2-e} \\cos{\\left(\\theta_{1} + \\theta_{2} \\right)}\\\\\\sin{\\left(\\theta_{1} + \\theta_{2} \\right)} & \\cos{\\left(\\theta_{1} + \\theta_{2} \\right)} & 0 & l_{1-2} \\sin{\\left(\\theta_{1} \\right)} + l_{2-e} \\sin{\\left(\\theta_{1} + \\theta_{2} \\right)}\\\\0 & 0 & 1 & 0\\\\0 & 0 & 0 & 1\\end{matrix}\\right]$"
      ],
      "text/plain": [
       "Matrix([\n",
       "[cos(theta_1 + theta_2), -sin(theta_1 + theta_2), 0, l_1-2*cos(theta_1) + l_2-e*cos(theta_1 + theta_2)],\n",
       "[sin(theta_1 + theta_2),  cos(theta_1 + theta_2), 0, l_1-2*sin(theta_1) + l_2-e*sin(theta_1 + theta_2)],\n",
       "[                     0,                       0, 1,                                                 0],\n",
       "[                     0,                       0, 0,                                                 1]])"
      ]
     },
     "execution_count": 20,
     "metadata": {},
     "output_type": "execute_result"
    }
   ],
   "source": [
    "sp.simplify( Rot_z(theta_1)*trans_x(length_b) * Rot_z(theta_2)*trans_x(length_c))\n"
   ]
  },
  {
   "cell_type": "code",
   "execution_count": 21,
   "metadata": {},
   "outputs": [
    {
     "data": {
      "text/latex": [
       "$\\displaystyle \\left[\\begin{matrix}- \\left(l_{1-2} \\cos{\\left(\\theta_{1} \\right)} + l_{2-e} \\cos{\\left(\\theta_{1} + \\theta_{2} \\right)}\\right) \\sin{\\left(\\phi_{0} \\right)}\\\\\\left(l_{1-2} \\cos{\\left(\\theta_{1} \\right)} + l_{2-e} \\cos{\\left(\\theta_{1} + \\theta_{2} \\right)}\\right) \\cos{\\left(\\phi_{0} \\right)}\\\\l_{0-1} + l_{1-2} \\sin{\\left(\\theta_{1} \\right)} + l_{2-e} \\sin{\\left(\\theta_{1} + \\theta_{2} \\right)}\\\\1\\end{matrix}\\right]$"
      ],
      "text/plain": [
       "Matrix([\n",
       "[-(l_1-2*cos(theta_1) + l_2-e*cos(theta_1 + theta_2))*sin(phi_0)],\n",
       "[ (l_1-2*cos(theta_1) + l_2-e*cos(theta_1 + theta_2))*cos(phi_0)],\n",
       "[      l_0-1 + l_1-2*sin(theta_1) + l_2-e*sin(theta_1 + theta_2)],\n",
       "[                                                              1]])"
      ]
     },
     "execution_count": 21,
     "metadata": {},
     "output_type": "execute_result"
    }
   ],
   "source": [
    "new_homogenous = sp.simplify(Rot_z(phi)*trans_z(length_a) * Rot_x(theta_1)*trans_y(length_b) * Rot_x(theta_2)*trans_y(length_c))\n",
    "fw_eqns = new_homogenous.col(3)\n",
    "fw_eqns"
   ]
  },
  {
   "cell_type": "code",
   "execution_count": 22,
   "metadata": {},
   "outputs": [
    {
     "data": {
      "text/latex": [
       "$\\displaystyle \\left[\\begin{matrix}0\\\\1.02579346586043\\\\1.99966729321255\\\\1\\end{matrix}\\right]$"
      ],
      "text/plain": [
       "Matrix([\n",
       "[               0],\n",
       "[1.02579346586043],\n",
       "[1.99966729321255],\n",
       "[               1]])"
      ]
     },
     "execution_count": 22,
     "metadata": {},
     "output_type": "execute_result"
    }
   ],
   "source": [
    "link_1 = 1\n",
    "link_2 = 1\n",
    "link_3 = 1\n",
    "\n",
    "#phi_o = math.radians(0)\n",
    "#theta_1 = math.radians(60)\n",
    "#theta_2 = math.radians(60)\n",
    "\n",
    "\n",
    "sp.simplify(fw_eqns.subs({phi:0,\n",
    "            theta_1:0,\n",
    "           theta_2:1.545,\n",
    "            length_a:1,\n",
    "            length_b:1,\n",
    "            length_c:1}))\n",
    "\n"
   ]
  },
  {
   "cell_type": "code",
   "execution_count": null,
   "metadata": {},
   "outputs": [
    {
     "data": {
      "text/latex": [
       "$\\displaystyle \\left[\\begin{matrix}\\operatorname{atan}_{2}{\\left(y,\\sqrt{- d_{1}^{2} + x^{2} + y^{2}} \\right)} - \\operatorname{atan}_{2}{\\left(\\frac{l_{2-e} \\sqrt{\\frac{4 l_{1-2}^{2} l_{2-e}^{2} - \\left(d_{1}^{2} + l_{1-2}^{2} + l_{2-e}^{2} - x^{2} - y^{2} - z^{2}\\right)^{2}}{l_{1-2}^{2} l_{2-e}^{2}}}}{2},\\frac{- d_{1}^{2} + l_{1-2}^{2} - l_{2-e}^{2} + x^{2} + y^{2} + z^{2}}{2 l_{1-2}} \\right)}\\\\\\operatorname{atan}_{2}{\\left(\\frac{\\sqrt{4 - \\frac{\\left(d_{1}^{2} + l_{1-2}^{2} + l_{2-e}^{2} - x^{2} - y^{2} - z^{2}\\right)^{2}}{l_{1-2}^{2} l_{2-e}^{2}}}}{2},\\frac{- d_{1}^{2} - l_{1-2}^{2} - l_{2-e}^{2} + x^{2} + y^{2} + z^{2}}{2 l_{1-2} l_{2-e}} \\right)}\\\\\\operatorname{atan}_{2}{\\left(x,z \\right)} + 3.14159265358979\\end{matrix}\\right]$"
      ],
      "text/plain": [
       "Matrix([\n",
       "[atan2(y, sqrt(-d_1**2 + x**2 + y**2)) - atan2(l_2-e*sqrt((4*l_1-2**2*l_2-e**2 - (d_1**2 + l_1-2**2 + l_2-e**2 - x**2 - y**2 - z**2)**2)/(l_1-2**2*l_2-e**2))/2, (-d_1**2 + l_1-2**2 - l_2-e**2 + x**2 + y**2 + z**2)/(2*l_1-2))],\n",
       "[                                                            atan2(sqrt(4 - (d_1**2 + l_1-2**2 + l_2-e**2 - x**2 - y**2 - z**2)**2/(l_1-2**2*l_2-e**2))/2, (-d_1**2 - l_1-2**2 - l_2-e**2 + x**2 + y**2 + z**2)/(2*l_1-2*l_2-e))],\n",
       "[                                                                                                                                                                                                 atan2(x, z) + 3.14159265358979]])"
      ]
     },
     "execution_count": 23,
     "metadata": {},
     "output_type": "execute_result"
    }
   ],
   "source": [
    "x = 0\n",
    "y =1.02\n",
    "z =1.9\n",
    "d = 0\n",
    "X = sp.Symbol(\"P_x\")\n",
    "Y = sp.Symbol(\"P_y\")\n",
    "Z = sp.Symbol(\"P_z\")\n",
    "offset = sp.Symbol(\"d_1\")\n",
    "link_1 = 1\n",
    "link_2 = 1\n",
    "link_3 = 1\n",
    "mag = sp.sqrt(X**2+Y**2)\n",
    "\n",
    "phi_eqn = sp.atan2(X,Z)\n",
    "phi_eqn = math.pi + sp.atan2(X,Z) + sp.atan2(-sp.sqrt(X**2+Y**2-d**2),d)\n",
    "\n",
    "D = (X**2 +Y**2 - offset**2 + Z**2 - length_b**2 - length_c**2)/(2*length_b *length_c)\n",
    "#D\n",
    "theta_2_eqn = sp.atan2(sp.sqrt(1-D**2),D) #alt 1\n",
    "theta_2_eqn = sp.atan2(-sp.sqrt(1-D**2),D) #alt 2\n",
    "\n",
    "#theta_2_eqn\n",
    "theta_1_eqn = sp.atan2(Y,sp.sqrt(mag**2-offset**2))-sp.atan2(length_c*sp.sin(theta_2_eqn),length_b +length_c*sp.cos(theta_2_eqn))\n",
    "\n",
    "#alpha = sp.acos((length_b**2 + length_c**2-X**2-Y**2)/(2*length_b*length_c))\n",
    "##beta = sp.acos((X**2 + Y**2 -length_b**2 -length_c**2)/(2*length_b*(mag)))\n",
    "#gamma = sp.atan2(Y,X)\n",
    "\n",
    "\n",
    "#theta_1_eqn = gamma - alpha\n",
    "#theta_2_eqn = math.pi - beta\n",
    "\n",
    "\n",
    "#theta_1_eqn = gamma - alpha\n",
    "#theta_2_eqn = math.pi - beta\n",
    "\n",
    "#theta_2_eqn = sp.acos((X**2 + Y**2 - length_b**2- length_c**2)/(2*length_b*length_c))\n",
    "#theta_2_eqn = -sp.acos((X**2 + Y**2 - length_b**2- length_c**2)/(2*length_b*length_c))\n",
    "#theta_1_eqn  = sp.atan2(Y,X) - sp.atan2((length_c * sp.sin(theta_2)),(length_b + length_c*sp.cos(theta_2)))\n",
    "\n",
    "\n",
    "sp.simplify(sp.Matrix([theta_1_eqn,\n",
    "                        theta_2_eqn,\n",
    "                        phi_eqn]))\n"
   ]
  },
  {
   "cell_type": "code",
   "execution_count": 24,
   "metadata": {},
   "outputs": [
    {
     "data": {
      "text/latex": [
       "$\\displaystyle \\left[\\begin{matrix}\\left(0.785398163397448 - 0.393039028913566 i\\right) \\bmod 3.14159265358979\\\\0.786078057827132 i \\bmod 3.14159265358979\\\\0.0\\end{matrix}\\right]$"
      ],
      "text/plain": [
       "Matrix([\n",
       "[Mod(0.785398163397448 - 0.393039028913566*I, 3.14159265358979)],\n",
       "[                    Mod(0.786078057827132*I, 3.14159265358979)],\n",
       "[                                                           0.0]])"
      ]
     },
     "execution_count": 24,
     "metadata": {},
     "output_type": "execute_result"
    }
   ],
   "source": [
    "theta_2_solved = theta_2_eqn.subs({X:x,\n",
    "                                   Y:y,\n",
    "                                   Z:z,\n",
    "                                   offset:d,\n",
    "                                length_b:link_2,\n",
    "                                length_c:link_3})\n",
    "theta_1_solved = theta_1_eqn.subs({X:x,\n",
    "                                   Y:y,\n",
    "                                   Z:z,\n",
    "                                   offset:d,\n",
    "                                length_b:link_2,\n",
    "                                length_c:link_3,\n",
    "                                theta_2:theta_2_solved})\n",
    "phi_solved = phi_eqn.subs({X:x,\n",
    "                            Y:y,\n",
    "                            Z:z,\n",
    "                            offset:d,\n",
    "                            length_b:link_2,\n",
    "                            length_c:link_3})\n",
    "\n",
    "sp.Matrix([(theta_1_solved% math.pi),\n",
    "            (theta_2_solved%math.pi),\n",
    "         (phi_solved%math.pi)])"
   ]
  },
  {
   "cell_type": "code",
   "execution_count": 27,
   "metadata": {},
   "outputs": [
    {
     "data": {
      "text/latex": [
       "$\\displaystyle \\left[\\begin{matrix}0\\\\1.02579346586043\\\\1.99966729321255\\\\1\\end{matrix}\\right]$"
      ],
      "text/plain": [
       "Matrix([\n",
       "[               0],\n",
       "[1.02579346586043],\n",
       "[1.99966729321255],\n",
       "[               1]])"
      ]
     },
     "execution_count": 27,
     "metadata": {},
     "output_type": "execute_result"
    }
   ],
   "source": [
    "theta_1_solved =0\n",
    "theta_2_solved = 1.545\n",
    "phi_solved = 0\n",
    "solved_fw_eqn = sp.simplify(fw_eqns.subs({theta_1:theta_1_solved,\n",
    "           theta_2:theta_2_solved,\n",
    "            phi:phi_solved,\n",
    "            length_a:1,\n",
    "            length_b:1,\n",
    "            length_c:1}))\n",
    "solved_fw_eqn"
   ]
  },
  {
   "cell_type": "code",
   "execution_count": 28,
   "metadata": {},
   "outputs": [
    {
     "data": {
      "text/plain": [
       "2.2474255311680436"
      ]
     },
     "execution_count": 28,
     "metadata": {},
     "output_type": "execute_result"
    }
   ],
   "source": [
    "math.sqrt(solved_fw_eqn[0]**2 + solved_fw_eqn[1]**2 + solved_fw_eqn[2]**2)\n"
   ]
  },
  {
   "cell_type": "code",
   "execution_count": null,
   "metadata": {},
   "outputs": [
    {
     "data": {
      "text/plain": [
       "3.0"
      ]
     },
     "execution_count": 426,
     "metadata": {},
     "output_type": "execute_result"
    }
   ],
   "source": [
    "math.sqrt(3**2 + 0**2 + 0**2)\n"
   ]
  }
 ],
 "metadata": {
  "kernelspec": {
   "display_name": ".venv",
   "language": "python",
   "name": "python3"
  },
  "language_info": {
   "codemirror_mode": {
    "name": "ipython",
    "version": 3
   },
   "file_extension": ".py",
   "mimetype": "text/x-python",
   "name": "python",
   "nbconvert_exporter": "python",
   "pygments_lexer": "ipython3",
   "version": "3.12.3"
  }
 },
 "nbformat": 4,
 "nbformat_minor": 2
}
